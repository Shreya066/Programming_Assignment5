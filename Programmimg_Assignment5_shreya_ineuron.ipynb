{
 "cells": [
  {
   "cell_type": "markdown",
   "id": "e7ac152a",
   "metadata": {},
   "source": [
    "**1.\tWrite a Python Program to Find LCM?**\n"
   ]
  },
  {
   "cell_type": "code",
   "execution_count": 1,
   "id": "414b49a5",
   "metadata": {},
   "outputs": [
    {
     "name": "stdout",
     "output_type": "stream",
     "text": [
      "Enter value for a- 20\n",
      "Enter value for b- 468\n",
      "2340\n"
     ]
    }
   ],
   "source": [
    "import math\n",
    "\n",
    "a = int(input('Enter value for a- '))\n",
    "b = int(input('Enter value for b- '))\n",
    "print(math.lcm(a,b))\n"
   ]
  },
  {
   "cell_type": "markdown",
   "id": "e80cb59d",
   "metadata": {},
   "source": [
    "**2.\tWrite a Python Program to Find HCF?**\n"
   ]
  },
  {
   "cell_type": "code",
   "execution_count": 2,
   "id": "375e7036",
   "metadata": {},
   "outputs": [
    {
     "name": "stdout",
     "output_type": "stream",
     "text": [
      "Enter value for a- 68\n",
      "Enter value for b- 96\n",
      "4\n"
     ]
    }
   ],
   "source": [
    "import math\n",
    "\n",
    "a = int(input('Enter value for a- '))\n",
    "b = int(input('Enter value for b- '))\n",
    "print(math.gcd(a,b))"
   ]
  },
  {
   "cell_type": "markdown",
   "id": "8fba906c",
   "metadata": {},
   "source": [
    "**3.\tWrite a Python Program to Convert Decimal to Binary, Octal and Hexadecimal?**"
   ]
  },
  {
   "cell_type": "code",
   "execution_count": 3,
   "id": "0a57ba9a",
   "metadata": {},
   "outputs": [
    {
     "name": "stdout",
     "output_type": "stream",
     "text": [
      "Enter a value- 468\n",
      "0b111010100 is value in binary\n",
      "0o724 is value in octal\n",
      "0x1d4 is value in hexadecimal\n"
     ]
    }
   ],
   "source": [
    "decnum = int(input('Enter a value- '))\n",
    "print(bin(decnum), 'is value in binary')\n",
    "print(oct(decnum), 'is value in octal')\n",
    "print(hex(decnum), 'is value in hexadecimal')"
   ]
  },
  {
   "cell_type": "markdown",
   "id": "f050fbee",
   "metadata": {},
   "source": [
    "**4.\tWrite a Python Program To Find ASCII value of a character?**"
   ]
  },
  {
   "cell_type": "code",
   "execution_count": 4,
   "id": "e75a779c",
   "metadata": {},
   "outputs": [
    {
     "name": "stdout",
     "output_type": "stream",
     "text": [
      "Enter a character- A\n",
      "the ASCII value of a = 65\n"
     ]
    }
   ],
   "source": [
    "a = input('Enter a character- ')\n",
    "print('the ASCII value of a =', ord(a))"
   ]
  },
  {
   "cell_type": "markdown",
   "id": "8a793d81",
   "metadata": {},
   "source": [
    "**5.\tWrite a Python Program to Make a Simple Calculator with 4 basic mathematical operations**"
   ]
  },
  {
   "cell_type": "code",
   "execution_count": 5,
   "id": "6c3d3ced",
   "metadata": {},
   "outputs": [
    {
     "name": "stdout",
     "output_type": "stream",
     "text": [
      "Enter 1st value: 89\n",
      "Enter 2nd value: 97\n",
      "choose operator - + , / , - , *: *\n",
      "Outcome =  8633\n"
     ]
    }
   ],
   "source": [
    "a = int(input('Enter 1st value: '))\n",
    "b = int(input('Enter 2nd value: '))\n",
    "c = input('choose operator - + , / , - , *: ')\n",
    "if c == '+':\n",
    "    print('Outcome = ', a+b)\n",
    "elif c == '/':\n",
    "    print('Outcome = ', a/b)\n",
    "elif c == '-':\n",
    "    print('Outcome = ', a-b)\n",
    "elif c == '*':\n",
    "    print('Outcome = ', a*b)\n",
    "else:\n",
    "    print('Operation not valid')"
   ]
  }
 ],
 "metadata": {
  "kernelspec": {
   "display_name": "Python 3 (ipykernel)",
   "language": "python",
   "name": "python3"
  },
  "language_info": {
   "codemirror_mode": {
    "name": "ipython",
    "version": 3
   },
   "file_extension": ".py",
   "mimetype": "text/x-python",
   "name": "python",
   "nbconvert_exporter": "python",
   "pygments_lexer": "ipython3",
   "version": "3.9.7"
  }
 },
 "nbformat": 4,
 "nbformat_minor": 5
}
